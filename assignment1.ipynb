#This is the assignment 

import numpy as np
import pandas as pd

print("Hello capstone project course!")

